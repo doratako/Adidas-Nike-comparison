{
 "cells": [
  {
   "cell_type": "code",
   "execution_count": 22,
   "id": "22cd9e78",
   "metadata": {
    "_cell_guid": "b1076dfc-b9ad-4769-8c92-a6c4dae69d19",
    "_uuid": "8f2839f25d086af736a60e9eeb907d3b93b6e0e5",
    "papermill": {
     "duration": 1.243718,
     "end_time": "2023-03-22T01:21:29.216429",
     "exception": false,
     "start_time": "2023-03-22T01:21:27.972711",
     "status": "completed"
    },
    "tags": []
   },
   "outputs": [],
   "source": [
    "import numpy as np \n",
    "import pandas as pd \n",
    "import matplotlib.pyplot as plt\n",
    "import seaborn as sns\n"
   ]
  },
  {
   "cell_type": "markdown",
   "id": "b4b93ff1",
   "metadata": {
    "papermill": {
     "duration": 0.013238,
     "end_time": "2023-03-22T01:21:29.242788",
     "exception": false,
     "start_time": "2023-03-22T01:21:29.229550",
     "status": "completed"
    },
    "tags": []
   },
   "source": [
    "## **DATA EXPLORATION AND PREPROCESSING**"
   ]
  },
  {
   "cell_type": "code",
   "execution_count": 23,
   "id": "1acbd099",
   "metadata": {
    "papermill": {
     "duration": 0.097387,
     "end_time": "2023-03-22T01:21:29.352901",
     "exception": false,
     "start_time": "2023-03-22T01:21:29.255514",
     "status": "completed"
    },
    "tags": []
   },
   "outputs": [
    {
     "data": {
      "text/html": [
       "<div>\n",
       "<style scoped>\n",
       "    .dataframe tbody tr th:only-of-type {\n",
       "        vertical-align: middle;\n",
       "    }\n",
       "\n",
       "    .dataframe tbody tr th {\n",
       "        vertical-align: top;\n",
       "    }\n",
       "\n",
       "    .dataframe thead th {\n",
       "        text-align: right;\n",
       "    }\n",
       "</style>\n",
       "<table border=\"1\" class=\"dataframe\">\n",
       "  <thead>\n",
       "    <tr style=\"text-align: right;\">\n",
       "      <th></th>\n",
       "      <th>Product Name</th>\n",
       "      <th>Product ID</th>\n",
       "      <th>Listing Price</th>\n",
       "      <th>Sale Price</th>\n",
       "      <th>Discount</th>\n",
       "      <th>Brand</th>\n",
       "      <th>Description</th>\n",
       "      <th>Rating</th>\n",
       "      <th>Reviews</th>\n",
       "      <th>Last Visited</th>\n",
       "    </tr>\n",
       "  </thead>\n",
       "  <tbody>\n",
       "    <tr>\n",
       "      <th>0</th>\n",
       "      <td>Women's adidas Originals NMD_Racer Primeknit S...</td>\n",
       "      <td>AH2430</td>\n",
       "      <td>14999</td>\n",
       "      <td>7499</td>\n",
       "      <td>50</td>\n",
       "      <td>Adidas Adidas ORIGINALS</td>\n",
       "      <td>Channeling the streamlined look of an '80s rac...</td>\n",
       "      <td>4.8</td>\n",
       "      <td>41</td>\n",
       "      <td>2020-04-13T15:06:14</td>\n",
       "    </tr>\n",
       "    <tr>\n",
       "      <th>1</th>\n",
       "      <td>Women's adidas Originals Sleek Shoes</td>\n",
       "      <td>G27341</td>\n",
       "      <td>7599</td>\n",
       "      <td>3799</td>\n",
       "      <td>50</td>\n",
       "      <td>Adidas ORIGINALS</td>\n",
       "      <td>A modern take on adidas sport heritage, tailor...</td>\n",
       "      <td>3.3</td>\n",
       "      <td>24</td>\n",
       "      <td>2020-04-13T15:06:15</td>\n",
       "    </tr>\n",
       "    <tr>\n",
       "      <th>2</th>\n",
       "      <td>Women's adidas Swim Puka Slippers</td>\n",
       "      <td>CM0081</td>\n",
       "      <td>999</td>\n",
       "      <td>599</td>\n",
       "      <td>40</td>\n",
       "      <td>Adidas CORE / NEO</td>\n",
       "      <td>These adidas Puka slippers for women's come wi...</td>\n",
       "      <td>2.6</td>\n",
       "      <td>37</td>\n",
       "      <td>2020-04-13T15:06:15</td>\n",
       "    </tr>\n",
       "    <tr>\n",
       "      <th>3</th>\n",
       "      <td>Women's adidas Sport Inspired Questar Ride Shoes</td>\n",
       "      <td>B44832</td>\n",
       "      <td>6999</td>\n",
       "      <td>3499</td>\n",
       "      <td>50</td>\n",
       "      <td>Adidas CORE / NEO</td>\n",
       "      <td>Inspired by modern tech runners, these women's...</td>\n",
       "      <td>4.1</td>\n",
       "      <td>35</td>\n",
       "      <td>2020-04-13T15:06:15</td>\n",
       "    </tr>\n",
       "    <tr>\n",
       "      <th>4</th>\n",
       "      <td>Women's adidas Originals Taekwondo Shoes</td>\n",
       "      <td>D98205</td>\n",
       "      <td>7999</td>\n",
       "      <td>3999</td>\n",
       "      <td>50</td>\n",
       "      <td>Adidas ORIGINALS</td>\n",
       "      <td>This design is inspired by vintage Taekwondo s...</td>\n",
       "      <td>3.5</td>\n",
       "      <td>72</td>\n",
       "      <td>2020-04-13T15:06:15</td>\n",
       "    </tr>\n",
       "  </tbody>\n",
       "</table>\n",
       "</div>"
      ],
      "text/plain": [
       "                                        Product Name Product ID  \\\n",
       "0  Women's adidas Originals NMD_Racer Primeknit S...     AH2430   \n",
       "1               Women's adidas Originals Sleek Shoes     G27341   \n",
       "2                  Women's adidas Swim Puka Slippers     CM0081   \n",
       "3   Women's adidas Sport Inspired Questar Ride Shoes     B44832   \n",
       "4           Women's adidas Originals Taekwondo Shoes     D98205   \n",
       "\n",
       "   Listing Price  Sale Price  Discount                    Brand  \\\n",
       "0          14999        7499        50  Adidas Adidas ORIGINALS   \n",
       "1           7599        3799        50         Adidas ORIGINALS   \n",
       "2            999         599        40        Adidas CORE / NEO   \n",
       "3           6999        3499        50        Adidas CORE / NEO   \n",
       "4           7999        3999        50         Adidas ORIGINALS   \n",
       "\n",
       "                                         Description  Rating  Reviews  \\\n",
       "0  Channeling the streamlined look of an '80s rac...     4.8       41   \n",
       "1  A modern take on adidas sport heritage, tailor...     3.3       24   \n",
       "2  These adidas Puka slippers for women's come wi...     2.6       37   \n",
       "3  Inspired by modern tech runners, these women's...     4.1       35   \n",
       "4  This design is inspired by vintage Taekwondo s...     3.5       72   \n",
       "\n",
       "          Last Visited  \n",
       "0  2020-04-13T15:06:14  \n",
       "1  2020-04-13T15:06:15  \n",
       "2  2020-04-13T15:06:15  \n",
       "3  2020-04-13T15:06:15  \n",
       "4  2020-04-13T15:06:15  "
      ]
     },
     "execution_count": 23,
     "metadata": {},
     "output_type": "execute_result"
    }
   ],
   "source": [
    "df= pd.read_csv(\"Adidas Vs Nike.csv\")\n",
    "df.head()"
   ]
  },
  {
   "cell_type": "code",
   "execution_count": 24,
   "id": "9c759a84",
   "metadata": {
    "papermill": {
     "duration": 0.024201,
     "end_time": "2023-03-22T01:21:29.391190",
     "exception": false,
     "start_time": "2023-03-22T01:21:29.366989",
     "status": "completed"
    },
    "tags": []
   },
   "outputs": [
    {
     "data": {
      "text/plain": [
       "(3268, 10)"
      ]
     },
     "execution_count": 24,
     "metadata": {},
     "output_type": "execute_result"
    }
   ],
   "source": [
    "df.shape"
   ]
  },
  {
   "cell_type": "code",
   "execution_count": 25,
   "id": "c631454b",
   "metadata": {
    "papermill": {
     "duration": 0.056946,
     "end_time": "2023-03-22T01:21:29.461148",
     "exception": false,
     "start_time": "2023-03-22T01:21:29.404202",
     "status": "completed"
    },
    "tags": []
   },
   "outputs": [
    {
     "name": "stdout",
     "output_type": "stream",
     "text": [
      "<class 'pandas.core.frame.DataFrame'>\n",
      "RangeIndex: 3268 entries, 0 to 3267\n",
      "Data columns (total 10 columns):\n",
      " #   Column         Non-Null Count  Dtype  \n",
      "---  ------         --------------  -----  \n",
      " 0   Product Name   3268 non-null   object \n",
      " 1   Product ID     3268 non-null   object \n",
      " 2   Listing Price  3268 non-null   int64  \n",
      " 3   Sale Price     3268 non-null   int64  \n",
      " 4   Discount       3268 non-null   int64  \n",
      " 5   Brand          3268 non-null   object \n",
      " 6   Description    3265 non-null   object \n",
      " 7   Rating         3268 non-null   float64\n",
      " 8   Reviews        3268 non-null   int64  \n",
      " 9   Last Visited   3268 non-null   object \n",
      "dtypes: float64(1), int64(4), object(5)\n",
      "memory usage: 255.4+ KB\n"
     ]
    }
   ],
   "source": [
    "df.info()"
   ]
  },
  {
   "cell_type": "code",
   "execution_count": 26,
   "id": "a90fd88e",
   "metadata": {
    "papermill": {
     "duration": 0.032671,
     "end_time": "2023-03-22T01:21:29.506971",
     "exception": false,
     "start_time": "2023-03-22T01:21:29.474300",
     "status": "completed"
    },
    "tags": []
   },
   "outputs": [
    {
     "data": {
      "text/plain": [
       "Product Name     1531\n",
       "Product ID       3179\n",
       "Listing Price      78\n",
       "Sale Price        227\n",
       "Discount            6\n",
       "Brand               5\n",
       "Description      1762\n",
       "Rating             32\n",
       "Reviews           102\n",
       "Last Visited      318\n",
       "dtype: int64"
      ]
     },
     "execution_count": 26,
     "metadata": {},
     "output_type": "execute_result"
    }
   ],
   "source": [
    "df.nunique()"
   ]
  },
  {
   "cell_type": "markdown",
   "id": "f1cbf654",
   "metadata": {
    "papermill": {
     "duration": 0.012595,
     "end_time": "2023-03-22T01:21:29.532269",
     "exception": false,
     "start_time": "2023-03-22T01:21:29.519674",
     "status": "completed"
    },
    "tags": []
   },
   "source": [
    "### **Data conversion**"
   ]
  },
  {
   "cell_type": "code",
   "execution_count": 27,
   "id": "9fb0ffe2",
   "metadata": {
    "papermill": {
     "duration": 0.032208,
     "end_time": "2023-03-22T01:21:29.577290",
     "exception": false,
     "start_time": "2023-03-22T01:21:29.545082",
     "status": "completed"
    },
    "tags": []
   },
   "outputs": [],
   "source": [
    "df[\"Brand\"] = df[\"Brand\"].astype(\"category\")\n",
    "\n",
    "df[\"Last Visited\"] = pd.to_datetime(df[\"Last Visited\"])"
   ]
  },
  {
   "cell_type": "markdown",
   "id": "4f9388e5",
   "metadata": {
    "papermill": {
     "duration": 0.012331,
     "end_time": "2023-03-22T01:21:29.602479",
     "exception": false,
     "start_time": "2023-03-22T01:21:29.590148",
     "status": "completed"
    },
    "tags": []
   },
   "source": [
    "### **Finding missing values**"
   ]
  },
  {
   "cell_type": "code",
   "execution_count": 28,
   "id": "f10dca6a",
   "metadata": {
    "papermill": {
     "duration": 0.027784,
     "end_time": "2023-03-22T01:21:29.643263",
     "exception": false,
     "start_time": "2023-03-22T01:21:29.615479",
     "status": "completed"
    },
    "tags": []
   },
   "outputs": [
    {
     "data": {
      "text/plain": [
       "Product Name     0\n",
       "Product ID       0\n",
       "Listing Price    0\n",
       "Sale Price       0\n",
       "Discount         0\n",
       "Brand            0\n",
       "Description      3\n",
       "Rating           0\n",
       "Reviews          0\n",
       "Last Visited     0\n",
       "dtype: int64"
      ]
     },
     "execution_count": 28,
     "metadata": {},
     "output_type": "execute_result"
    }
   ],
   "source": [
    "df.isna().sum()"
   ]
  },
  {
   "cell_type": "markdown",
   "id": "50144b62",
   "metadata": {
    "papermill": {
     "duration": 0.012881,
     "end_time": "2023-03-22T01:21:29.669255",
     "exception": false,
     "start_time": "2023-03-22T01:21:29.656374",
     "status": "completed"
    },
    "tags": []
   },
   "source": [
    "Only three rows contain missing data, and all of them are in the Description column. The description of the products does not hold valuable information for the analysis, unlike the other parameters of the products. Therefore, it is beneficial to keep them"
   ]
  },
  {
   "cell_type": "code",
   "execution_count": 29,
   "id": "a05d7f63",
   "metadata": {
    "papermill": {
     "duration": 0.037973,
     "end_time": "2023-03-22T01:21:29.720488",
     "exception": false,
     "start_time": "2023-03-22T01:21:29.682515",
     "status": "completed"
    },
    "tags": []
   },
   "outputs": [
    {
     "data": {
      "text/html": [
       "<div>\n",
       "<style scoped>\n",
       "    .dataframe tbody tr th:only-of-type {\n",
       "        vertical-align: middle;\n",
       "    }\n",
       "\n",
       "    .dataframe tbody tr th {\n",
       "        vertical-align: top;\n",
       "    }\n",
       "\n",
       "    .dataframe thead th {\n",
       "        text-align: right;\n",
       "    }\n",
       "</style>\n",
       "<table border=\"1\" class=\"dataframe\">\n",
       "  <thead>\n",
       "    <tr style=\"text-align: right;\">\n",
       "      <th></th>\n",
       "      <th>Product Name</th>\n",
       "      <th>Product ID</th>\n",
       "      <th>Listing Price</th>\n",
       "      <th>Sale Price</th>\n",
       "      <th>Discount</th>\n",
       "      <th>Brand</th>\n",
       "      <th>Description</th>\n",
       "      <th>Rating</th>\n",
       "      <th>Reviews</th>\n",
       "      <th>Last Visited</th>\n",
       "    </tr>\n",
       "  </thead>\n",
       "  <tbody>\n",
       "    <tr>\n",
       "      <th>2780</th>\n",
       "      <td>Nike React Infinity Run Flyknit</td>\n",
       "      <td>CD4371-001</td>\n",
       "      <td>0</td>\n",
       "      <td>13995</td>\n",
       "      <td>0</td>\n",
       "      <td>Nike</td>\n",
       "      <td>NaN</td>\n",
       "      <td>4.6</td>\n",
       "      <td>68</td>\n",
       "      <td>2020-04-13 15:30:15</td>\n",
       "    </tr>\n",
       "    <tr>\n",
       "      <th>2888</th>\n",
       "      <td>Nike React Infinity Run Flyknit</td>\n",
       "      <td>CD4372-004</td>\n",
       "      <td>0</td>\n",
       "      <td>13995</td>\n",
       "      <td>0</td>\n",
       "      <td>Nike</td>\n",
       "      <td>NaN</td>\n",
       "      <td>4.2</td>\n",
       "      <td>29</td>\n",
       "      <td>2020-04-13 15:32:18</td>\n",
       "    </tr>\n",
       "    <tr>\n",
       "      <th>3133</th>\n",
       "      <td>Nike Free X Metcon 2</td>\n",
       "      <td>CD8526-446</td>\n",
       "      <td>0</td>\n",
       "      <td>9995</td>\n",
       "      <td>0</td>\n",
       "      <td>Nike</td>\n",
       "      <td>NaN</td>\n",
       "      <td>3.0</td>\n",
       "      <td>7</td>\n",
       "      <td>2020-04-13 15:36:37</td>\n",
       "    </tr>\n",
       "  </tbody>\n",
       "</table>\n",
       "</div>"
      ],
      "text/plain": [
       "                         Product Name  Product ID  Listing Price  Sale Price  \\\n",
       "2780  Nike React Infinity Run Flyknit  CD4371-001              0       13995   \n",
       "2888  Nike React Infinity Run Flyknit  CD4372-004              0       13995   \n",
       "3133             Nike Free X Metcon 2  CD8526-446              0        9995   \n",
       "\n",
       "      Discount Brand Description  Rating  Reviews        Last Visited  \n",
       "2780         0  Nike         NaN     4.6       68 2020-04-13 15:30:15  \n",
       "2888         0  Nike         NaN     4.2       29 2020-04-13 15:32:18  \n",
       "3133         0  Nike         NaN     3.0        7 2020-04-13 15:36:37  "
      ]
     },
     "execution_count": 29,
     "metadata": {},
     "output_type": "execute_result"
    }
   ],
   "source": [
    "df[df[\"Description\"].isna()== True]"
   ]
  },
  {
   "cell_type": "markdown",
   "id": "4220fa19",
   "metadata": {
    "papermill": {
     "duration": 0.0134,
     "end_time": "2023-03-22T01:21:29.747559",
     "exception": false,
     "start_time": "2023-03-22T01:21:29.734159",
     "status": "completed"
    },
    "tags": []
   },
   "source": [
    "### **Finding duplicates**"
   ]
  },
  {
   "cell_type": "markdown",
   "id": "596cd3c9",
   "metadata": {
    "papermill": {
     "duration": 0.013059,
     "end_time": "2023-03-22T01:21:29.773960",
     "exception": false,
     "start_time": "2023-03-22T01:21:29.760901",
     "status": "completed"
    },
    "tags": []
   },
   "source": [
    "Since we are looking for identical products, I exlude the running indices and the date of last visits from filtering"
   ]
  },
  {
   "cell_type": "code",
   "execution_count": 30,
   "id": "8076c25f",
   "metadata": {
    "papermill": {
     "duration": 0.043619,
     "end_time": "2023-03-22T01:21:29.830922",
     "exception": false,
     "start_time": "2023-03-22T01:21:29.787303",
     "status": "completed"
    },
    "tags": []
   },
   "outputs": [
    {
     "data": {
      "text/html": [
       "<div>\n",
       "<style scoped>\n",
       "    .dataframe tbody tr th:only-of-type {\n",
       "        vertical-align: middle;\n",
       "    }\n",
       "\n",
       "    .dataframe tbody tr th {\n",
       "        vertical-align: top;\n",
       "    }\n",
       "\n",
       "    .dataframe thead th {\n",
       "        text-align: right;\n",
       "    }\n",
       "</style>\n",
       "<table border=\"1\" class=\"dataframe\">\n",
       "  <thead>\n",
       "    <tr style=\"text-align: right;\">\n",
       "      <th></th>\n",
       "      <th>Product Name</th>\n",
       "      <th>Product ID</th>\n",
       "      <th>Listing Price</th>\n",
       "      <th>Sale Price</th>\n",
       "      <th>Discount</th>\n",
       "      <th>Brand</th>\n",
       "      <th>Description</th>\n",
       "      <th>Rating</th>\n",
       "      <th>Reviews</th>\n",
       "      <th>Last Visited</th>\n",
       "    </tr>\n",
       "  </thead>\n",
       "  <tbody>\n",
       "    <tr>\n",
       "      <th>3062</th>\n",
       "      <td>Air Jordan 12 Retro</td>\n",
       "      <td>130690-017</td>\n",
       "      <td>0</td>\n",
       "      <td>15995</td>\n",
       "      <td>0</td>\n",
       "      <td>Nike</td>\n",
       "      <td>An all-time favourite among players and sneake...</td>\n",
       "      <td>4.5</td>\n",
       "      <td>24</td>\n",
       "      <td>2020-04-13 15:34:36</td>\n",
       "    </tr>\n",
       "    <tr>\n",
       "      <th>2751</th>\n",
       "      <td>Air Jordan 12 Retro</td>\n",
       "      <td>130690-017</td>\n",
       "      <td>0</td>\n",
       "      <td>15995</td>\n",
       "      <td>0</td>\n",
       "      <td>Nike</td>\n",
       "      <td>An all-time favourite among players and sneake...</td>\n",
       "      <td>4.5</td>\n",
       "      <td>24</td>\n",
       "      <td>2020-04-13 15:28:25</td>\n",
       "    </tr>\n",
       "    <tr>\n",
       "      <th>3115</th>\n",
       "      <td>Nike Zoom Rise</td>\n",
       "      <td>BQ5467-101</td>\n",
       "      <td>11995</td>\n",
       "      <td>8397</td>\n",
       "      <td>0</td>\n",
       "      <td>Nike</td>\n",
       "      <td>Bounce like never before in the Zoom Rise, Nik...</td>\n",
       "      <td>4.0</td>\n",
       "      <td>2</td>\n",
       "      <td>2020-04-13 15:36:32</td>\n",
       "    </tr>\n",
       "    <tr>\n",
       "      <th>3171</th>\n",
       "      <td>Nike Zoom Rise</td>\n",
       "      <td>BQ5467-101</td>\n",
       "      <td>11995</td>\n",
       "      <td>8397</td>\n",
       "      <td>0</td>\n",
       "      <td>Nike</td>\n",
       "      <td>Bounce like never before in the Zoom Rise, Nik...</td>\n",
       "      <td>4.0</td>\n",
       "      <td>2</td>\n",
       "      <td>2020-04-13 15:36:49</td>\n",
       "    </tr>\n",
       "  </tbody>\n",
       "</table>\n",
       "</div>"
      ],
      "text/plain": [
       "             Product Name  Product ID  Listing Price  Sale Price  Discount  \\\n",
       "3062  Air Jordan 12 Retro  130690-017              0       15995         0   \n",
       "2751  Air Jordan 12 Retro  130690-017              0       15995         0   \n",
       "3115       Nike Zoom Rise  BQ5467-101          11995        8397         0   \n",
       "3171       Nike Zoom Rise  BQ5467-101          11995        8397         0   \n",
       "\n",
       "     Brand                                        Description  Rating  \\\n",
       "3062  Nike  An all-time favourite among players and sneake...     4.5   \n",
       "2751  Nike  An all-time favourite among players and sneake...     4.5   \n",
       "3115  Nike  Bounce like never before in the Zoom Rise, Nik...     4.0   \n",
       "3171  Nike  Bounce like never before in the Zoom Rise, Nik...     4.0   \n",
       "\n",
       "      Reviews        Last Visited  \n",
       "3062       24 2020-04-13 15:34:36  \n",
       "2751       24 2020-04-13 15:28:25  \n",
       "3115        2 2020-04-13 15:36:32  \n",
       "3171        2 2020-04-13 15:36:49  "
      ]
     },
     "execution_count": 30,
     "metadata": {},
     "output_type": "execute_result"
    }
   ],
   "source": [
    "duplicated = df[df.duplicated([\"Product Name\", \"Product ID\", \"Listing Price\", \"Sale Price\", \"Brand\", \"Description\", \"Rating\", \"Reviews\"], keep = False)].sort_values(\"Description\")\n",
    "duplicated.head(4)"
   ]
  },
  {
   "cell_type": "code",
   "execution_count": 31,
   "id": "498e2728",
   "metadata": {
    "papermill": {
     "duration": 0.024299,
     "end_time": "2023-03-22T01:21:29.869158",
     "exception": false,
     "start_time": "2023-03-22T01:21:29.844859",
     "status": "completed"
    },
    "tags": []
   },
   "outputs": [
    {
     "data": {
      "text/plain": [
       "175"
      ]
     },
     "execution_count": 31,
     "metadata": {},
     "output_type": "execute_result"
    }
   ],
   "source": [
    "len(duplicated)"
   ]
  },
  {
   "cell_type": "code",
   "execution_count": 32,
   "id": "362da3f4",
   "metadata": {
    "papermill": {
     "duration": 0.026941,
     "end_time": "2023-03-22T01:21:29.909760",
     "exception": false,
     "start_time": "2023-03-22T01:21:29.882819",
     "status": "completed"
    },
    "tags": []
   },
   "outputs": [
    {
     "data": {
      "text/plain": [
       "'Nike'"
      ]
     },
     "execution_count": 32,
     "metadata": {},
     "output_type": "execute_result"
    }
   ],
   "source": [
    "\"\".join(duplicated[\"Brand\"].unique())"
   ]
  },
  {
   "cell_type": "markdown",
   "id": "a9fdc28d",
   "metadata": {
    "papermill": {
     "duration": 0.013534,
     "end_time": "2023-03-22T01:21:29.936916",
     "exception": false,
     "start_time": "2023-03-22T01:21:29.923382",
     "status": "completed"
    },
    "tags": []
   },
   "source": [
    "There appear to be 175 non-unique products in the dataset, all belonging to Nike. We don't have enough information to determine exactly why some products appear more than once on the list, but some possible reasons could be color, material or other characteristics that give more variation to the same product.\n"
   ]
  },
  {
   "cell_type": "markdown",
   "id": "308beb08",
   "metadata": {
    "papermill": {
     "duration": 0.01359,
     "end_time": "2023-03-22T01:21:29.964396",
     "exception": false,
     "start_time": "2023-03-22T01:21:29.950806",
     "status": "completed"
    },
    "tags": []
   },
   "source": [
    "### **Values in Brand column**"
   ]
  },
  {
   "cell_type": "code",
   "execution_count": 33,
   "id": "6652be15",
   "metadata": {
    "papermill": {
     "duration": 0.026214,
     "end_time": "2023-03-22T01:21:30.004486",
     "exception": false,
     "start_time": "2023-03-22T01:21:29.978272",
     "status": "completed"
    },
    "tags": []
   },
   "outputs": [
    {
     "data": {
      "text/plain": [
       "['Adidas Adidas ORIGINALS', 'Adidas ORIGINALS', 'Adidas CORE / NEO', 'Adidas SPORT PERFORMANCE', 'Nike']\n",
       "Categories (5, object): ['Adidas Adidas ORIGINALS', 'Adidas CORE / NEO', 'Adidas ORIGINALS', 'Adidas SPORT PERFORMANCE', 'Nike']"
      ]
     },
     "execution_count": 33,
     "metadata": {},
     "output_type": "execute_result"
    }
   ],
   "source": [
    "df[\"Brand\"].unique()"
   ]
  },
  {
   "cell_type": "markdown",
   "id": "73eb772c",
   "metadata": {
    "papermill": {
     "duration": 0.014771,
     "end_time": "2023-03-22T01:21:30.033908",
     "exception": false,
     "start_time": "2023-03-22T01:21:30.019137",
     "status": "completed"
    },
    "tags": []
   },
   "source": [
    "### **Inserting a column to help filter the two main brand**"
   ]
  },
  {
   "cell_type": "markdown",
   "id": "eb5cd6ac",
   "metadata": {
    "papermill": {
     "duration": 0.013911,
     "end_time": "2023-03-22T01:21:30.062504",
     "exception": false,
     "start_time": "2023-03-22T01:21:30.048593",
     "status": "completed"
    },
    "tags": []
   },
   "source": [
    "The purpose of the analysis is to compare the characteristics of Adidas and Nike products, so I ignore the Adidas sub-brands and label all of them with Adidas as the main brand."
   ]
  },
  {
   "cell_type": "code",
   "execution_count": 34,
   "id": "1607c697",
   "metadata": {
    "papermill": {
     "duration": 0.040179,
     "end_time": "2023-03-22T01:21:30.116894",
     "exception": false,
     "start_time": "2023-03-22T01:21:30.076715",
     "status": "completed"
    },
    "tags": []
   },
   "outputs": [
    {
     "name": "stderr",
     "output_type": "stream",
     "text": [
      "C:\\Users\\Dori\\AppData\\Local\\Temp\\ipykernel_1900\\2185943354.py:3: FutureWarning: The frame.append method is deprecated and will be removed from pandas in a future version. Use pandas.concat instead.\n",
      "  df.head(2).append(df.tail(2))\n"
     ]
    },
    {
     "data": {
      "text/html": [
       "<div>\n",
       "<style scoped>\n",
       "    .dataframe tbody tr th:only-of-type {\n",
       "        vertical-align: middle;\n",
       "    }\n",
       "\n",
       "    .dataframe tbody tr th {\n",
       "        vertical-align: top;\n",
       "    }\n",
       "\n",
       "    .dataframe thead th {\n",
       "        text-align: right;\n",
       "    }\n",
       "</style>\n",
       "<table border=\"1\" class=\"dataframe\">\n",
       "  <thead>\n",
       "    <tr style=\"text-align: right;\">\n",
       "      <th></th>\n",
       "      <th>Product Name</th>\n",
       "      <th>Product ID</th>\n",
       "      <th>Listing Price</th>\n",
       "      <th>Sale Price</th>\n",
       "      <th>Discount</th>\n",
       "      <th>Brand</th>\n",
       "      <th>Description</th>\n",
       "      <th>Rating</th>\n",
       "      <th>Reviews</th>\n",
       "      <th>Last Visited</th>\n",
       "      <th>Main Brand</th>\n",
       "    </tr>\n",
       "  </thead>\n",
       "  <tbody>\n",
       "    <tr>\n",
       "      <th>0</th>\n",
       "      <td>Women's adidas Originals NMD_Racer Primeknit S...</td>\n",
       "      <td>AH2430</td>\n",
       "      <td>14999</td>\n",
       "      <td>7499</td>\n",
       "      <td>50</td>\n",
       "      <td>Adidas Adidas ORIGINALS</td>\n",
       "      <td>Channeling the streamlined look of an '80s rac...</td>\n",
       "      <td>4.8</td>\n",
       "      <td>41</td>\n",
       "      <td>2020-04-13 15:06:14</td>\n",
       "      <td>Adidas</td>\n",
       "    </tr>\n",
       "    <tr>\n",
       "      <th>1</th>\n",
       "      <td>Women's adidas Originals Sleek Shoes</td>\n",
       "      <td>G27341</td>\n",
       "      <td>7599</td>\n",
       "      <td>3799</td>\n",
       "      <td>50</td>\n",
       "      <td>Adidas ORIGINALS</td>\n",
       "      <td>A modern take on adidas sport heritage, tailor...</td>\n",
       "      <td>3.3</td>\n",
       "      <td>24</td>\n",
       "      <td>2020-04-13 15:06:15</td>\n",
       "      <td>Adidas</td>\n",
       "    </tr>\n",
       "    <tr>\n",
       "      <th>3266</th>\n",
       "      <td>Nike Air Max 98</td>\n",
       "      <td>AH6799-300</td>\n",
       "      <td>0</td>\n",
       "      <td>16995</td>\n",
       "      <td>0</td>\n",
       "      <td>Nike</td>\n",
       "      <td>The Nike Air Max 98 features the OG design lin...</td>\n",
       "      <td>4.0</td>\n",
       "      <td>4</td>\n",
       "      <td>2020-04-13 15:41:19</td>\n",
       "      <td>Nike</td>\n",
       "    </tr>\n",
       "    <tr>\n",
       "      <th>3267</th>\n",
       "      <td>Nike P-6000 SE</td>\n",
       "      <td>CJ9585-600</td>\n",
       "      <td>8995</td>\n",
       "      <td>6297</td>\n",
       "      <td>0</td>\n",
       "      <td>Nike</td>\n",
       "      <td>A mash-up of Pegasus' past, the Nike P-6000 SE...</td>\n",
       "      <td>0.0</td>\n",
       "      <td>0</td>\n",
       "      <td>2020-04-13 15:42:57</td>\n",
       "      <td>Nike</td>\n",
       "    </tr>\n",
       "  </tbody>\n",
       "</table>\n",
       "</div>"
      ],
      "text/plain": [
       "                                           Product Name  Product ID  \\\n",
       "0     Women's adidas Originals NMD_Racer Primeknit S...      AH2430   \n",
       "1                  Women's adidas Originals Sleek Shoes      G27341   \n",
       "3266                                    Nike Air Max 98  AH6799-300   \n",
       "3267                                     Nike P-6000 SE  CJ9585-600   \n",
       "\n",
       "      Listing Price  Sale Price  Discount                    Brand  \\\n",
       "0             14999        7499        50  Adidas Adidas ORIGINALS   \n",
       "1              7599        3799        50         Adidas ORIGINALS   \n",
       "3266              0       16995         0                     Nike   \n",
       "3267           8995        6297         0                     Nike   \n",
       "\n",
       "                                            Description  Rating  Reviews  \\\n",
       "0     Channeling the streamlined look of an '80s rac...     4.8       41   \n",
       "1     A modern take on adidas sport heritage, tailor...     3.3       24   \n",
       "3266  The Nike Air Max 98 features the OG design lin...     4.0        4   \n",
       "3267  A mash-up of Pegasus' past, the Nike P-6000 SE...     0.0        0   \n",
       "\n",
       "            Last Visited Main Brand  \n",
       "0    2020-04-13 15:06:14     Adidas  \n",
       "1    2020-04-13 15:06:15     Adidas  \n",
       "3266 2020-04-13 15:41:19       Nike  \n",
       "3267 2020-04-13 15:42:57       Nike  "
      ]
     },
     "execution_count": 34,
     "metadata": {},
     "output_type": "execute_result"
    }
   ],
   "source": [
    "df[\"Main Brand\"] = df[\"Brand\"].apply(lambda x: \"Nike\" if x == \"Nike\" else \"Adidas\")\n",
    "\n",
    "df.head(2).append(df.tail(2))"
   ]
  },
  {
   "cell_type": "markdown",
   "id": "0e5d0cc0",
   "metadata": {
    "papermill": {
     "duration": 0.013803,
     "end_time": "2023-03-22T01:21:30.144783",
     "exception": false,
     "start_time": "2023-03-22T01:21:30.130980",
     "status": "completed"
    },
    "tags": []
   },
   "source": [
    "# **DATA ANALYSIS**"
   ]
  },
  {
   "cell_type": "markdown",
   "id": "4a2b80ea",
   "metadata": {
    "papermill": {
     "duration": 0.013701,
     "end_time": "2023-03-22T01:21:30.172573",
     "exception": false,
     "start_time": "2023-03-22T01:21:30.158872",
     "status": "completed"
    },
    "tags": []
   },
   "source": [
    "### **Number of products**"
   ]
  },
  {
   "cell_type": "code",
   "execution_count": 35,
   "id": "3f351084",
   "metadata": {
    "papermill": {
     "duration": 0.027355,
     "end_time": "2023-03-22T01:21:30.213810",
     "exception": false,
     "start_time": "2023-03-22T01:21:30.186455",
     "status": "completed"
    },
    "tags": []
   },
   "outputs": [
    {
     "data": {
      "text/plain": [
       "Main Brand\n",
       "Adidas    2625\n",
       "Nike       643\n",
       "dtype: int64"
      ]
     },
     "execution_count": 35,
     "metadata": {},
     "output_type": "execute_result"
    }
   ],
   "source": [
    "count_items = df.groupby(\"Main Brand\").size()\n",
    "count_items"
   ]
  },
  {
   "cell_type": "markdown",
   "id": "7ab78770",
   "metadata": {
    "papermill": {
     "duration": 0.013818,
     "end_time": "2023-03-22T01:21:30.241929",
     "exception": false,
     "start_time": "2023-03-22T01:21:30.228111",
     "status": "completed"
    },
    "tags": []
   },
   "source": [
    "Adidas offers four times more products than Nike, which is a significant difference"
   ]
  },
  {
   "cell_type": "markdown",
   "id": "32e8c9a1",
   "metadata": {
    "papermill": {
     "duration": 0.01452,
     "end_time": "2023-03-22T01:21:30.270689",
     "exception": false,
     "start_time": "2023-03-22T01:21:30.256169",
     "status": "completed"
    },
    "tags": []
   },
   "source": [
    "### **Exploring some statistics on sale prices, discounts, ratings and reviews**"
   ]
  },
  {
   "cell_type": "markdown",
   "id": "21ff35c4",
   "metadata": {
    "papermill": {
     "duration": 0.013752,
     "end_time": "2023-03-22T01:21:30.298452",
     "exception": false,
     "start_time": "2023-03-22T01:21:30.284700",
     "status": "completed"
    },
    "tags": []
   },
   "source": [
    "### *Sale Price*"
   ]
  },
  {
   "cell_type": "code",
   "execution_count": 36,
   "id": "afbeb8db",
   "metadata": {
    "papermill": {
     "duration": 0.279027,
     "end_time": "2023-03-22T01:21:30.591547",
     "exception": false,
     "start_time": "2023-03-22T01:21:30.312520",
     "status": "completed"
    },
    "tags": []
   },
   "outputs": [
    {
     "data": {
      "text/plain": [
       "<AxesSubplot:xlabel='Main Brand', ylabel='Sale Price'>"
      ]
     },
     "execution_count": 36,
     "metadata": {},
     "output_type": "execute_result"
    },
    {
     "data": {
      "image/png": "[encoded data removed]",
      "text/plain": [
       "<Figure size 640x480 with 1 Axes>"
      ]
     },
     "metadata": {},
     "output_type": "display_data"
    }
   ],
   "source": [
    "# Unfortunatelly the currency is not indicated in the dataset\n",
    "\n",
    "sns.boxplot(data = df, x = \"Main Brand\", y = \"Sale Price\")"
   ]
  },
  {
   "cell_type": "markdown",
   "id": "bf3461d4",
   "metadata": {
    "papermill": {
     "duration": 0.014432,
     "end_time": "2023-03-22T01:21:30.620767",
     "exception": false,
     "start_time": "2023-03-22T01:21:30.606335",
     "status": "completed"
    },
    "tags": []
   },
   "source": [
    "It seems that Adidas generally offers its products cheaper than Nike. Both brands represent extreme values, but Nike's prices are more symmetrically distributed."
   ]
  },
  {
   "cell_type": "markdown",
   "id": "10208da8",
   "metadata": {
    "papermill": {
     "duration": 0.014507,
     "end_time": "2023-03-22T01:21:30.649816",
     "exception": false,
     "start_time": "2023-03-22T01:21:30.635309",
     "status": "completed"
    },
    "tags": []
   },
   "source": [
    "#### Average sale price"
   ]
  },
  {
   "cell_type": "markdown",
   "id": "582d1db8",
   "metadata": {
    "papermill": {
     "duration": 0.014386,
     "end_time": "2023-03-22T01:21:30.678819",
     "exception": false,
     "start_time": "2023-03-22T01:21:30.664433",
     "status": "completed"
    },
    "tags": []
   },
   "source": [
    "We can read the average sale price from the box plot, but let's see it more precisly"
   ]
  },
  {
   "cell_type": "code",
   "execution_count": 37,
   "id": "c97d04e5",
   "metadata": {
    "papermill": {
     "duration": 0.02963,
     "end_time": "2023-03-22T01:21:30.722997",
     "exception": false,
     "start_time": "2023-03-22T01:21:30.693367",
     "status": "completed"
    },
    "tags": []
   },
   "outputs": [
    {
     "data": {
      "text/plain": [
       "Main Brand\n",
       "Adidas     5135.004190\n",
       "Nike      10213.676516\n",
       "Name: Sale Price, dtype: float64"
      ]
     },
     "execution_count": 37,
     "metadata": {},
     "output_type": "execute_result"
    }
   ],
   "source": [
    "df.groupby(\"Main Brand\")[\"Sale Price\"].mean()"
   ]
  },
  {
   "cell_type": "markdown",
   "id": "869dcb5a",
   "metadata": {
    "papermill": {
     "duration": 0.014261,
     "end_time": "2023-03-22T01:21:30.752302",
     "exception": false,
     "start_time": "2023-03-22T01:21:30.738041",
     "status": "completed"
    },
    "tags": []
   },
   "source": [
    "#### Variability"
   ]
  },
  {
   "cell_type": "code",
   "execution_count": 38,
   "id": "4e483aa9",
   "metadata": {
    "papermill": {
     "duration": 0.40939,
     "end_time": "2023-03-22T01:21:31.176414",
     "exception": false,
     "start_time": "2023-03-22T01:21:30.767024",
     "status": "completed"
    },
    "tags": []
   },
   "outputs": [
    {
     "data": {
      "text/plain": [
       "Text(0, 0.5, 'Frequency')"
      ]
     },
     "execution_count": 38,
     "metadata": {},
     "output_type": "execute_result"
    },
    {
     "data": {
      "image/png": "[encoded data removed]",
      "text/plain": [
       "<Figure size 640x480 with 1 Axes>"
      ]
     },
     "metadata": {},
     "output_type": "display_data"
    }
   ],
   "source": [
    "adidas = df.loc[df[\"Main Brand\"] == \"Adidas\", \"Sale Price\"]\n",
    "adidas_avg = adidas.mean()  \n",
    "adidas_std = adidas.std()\n",
    "\n",
    "adidas_std_a = adidas_avg + adidas_std \n",
    "adidas_std_b = adidas_avg - adidas_std \n",
    "\n",
    "\n",
    "\n",
    "sns.histplot(x = adidas, edgecolor = \"blue\", color = \"lightblue\" )\n",
    "\n",
    "plt.axvline(x = adidas_std_b, ymin = 0, ymax = adidas.max(), linestyle = \"--\", color = \"black\" )  # below the mean\n",
    "plt.axvline(x = adidas_avg, ymin = 0, ymax = adidas.max(),  color = \"black\" )\n",
    "plt.axvline(x = adidas_std_a, ymin = 0, ymax = adidas.max(), linestyle = \"--\", color = \"black\" )  # alow the mean\n",
    "\n",
    "plt.xlabel(\"Adidas - Sale Price\", labelpad = 15 )\n",
    "plt.ylabel(\"Frequency\", labelpad = 10 )"
   ]
  },
  {
   "cell_type": "code",
   "execution_count": 39,
   "id": "0f1892b2",
   "metadata": {
    "papermill": {
     "duration": 0.3484,
     "end_time": "2023-03-22T01:21:31.548718",
     "exception": false,
     "start_time": "2023-03-22T01:21:31.200318",
     "status": "completed"
    },
    "tags": []
   },
   "outputs": [
    {
     "data": {
      "text/plain": [
       "Text(0, 0.5, 'Frequency')"
      ]
     },
     "execution_count": 39,
     "metadata": {},
     "output_type": "execute_result"
    },
    {
     "data": {
      "image/png": "[encoded data removed]",
      "text/plain": [
       "<Figure size 640x480 with 1 Axes>"
      ]
     },
     "metadata": {},
     "output_type": "display_data"
    }
   ],
   "source": [
    "nike = df.loc[df[\"Main Brand\"] == \"Nike\", \"Sale Price\"]\n",
    "nike_avg = nike.mean() \n",
    "nike_std = nike.std()\n",
    "\n",
    "nike_std_a = nike_avg + nike_std\n",
    "nike_std_b = nike_avg - nike_std\n",
    "\n",
    "sns.histplot(x = nike,  edgecolor = \"green\", color = \"lightgreen\" )\n",
    "\n",
    "plt.axvline(x = nike_std_b, ymin = 0, ymax = nike.max(), linestyle = \"--\", color = \"black\" )  # below the mean\n",
    "plt.axvline(x = nike_avg, ymin = 0, ymax = nike.max(),  color = \"black\" )\n",
    "plt.axvline(x = nike_std_a, ymin = 0, ymax = nike.max(), linestyle = \"--\", color = \"black\" )  # above the mean\n",
    "\n",
    "plt.xlabel(\"Nike - Sale Price\", labelpad = 15 )\n",
    "plt.ylabel(\"Frequency\", labelpad = 10 )\n"
   ]
  },
  {
   "cell_type": "markdown",
   "id": "79b26431",
   "metadata": {
    "papermill": {
     "duration": 0.015999,
     "end_time": "2023-03-22T01:21:31.581419",
     "exception": false,
     "start_time": "2023-03-22T01:21:31.565420",
     "status": "completed"
    },
    "tags": []
   },
   "source": [
    "### *Discount*"
   ]
  },
  {
   "cell_type": "markdown",
   "id": "20eab4b3",
   "metadata": {
    "papermill": {
     "duration": 0.015613,
     "end_time": "2023-03-22T01:21:31.613101",
     "exception": false,
     "start_time": "2023-03-22T01:21:31.597488",
     "status": "completed"
    },
    "tags": []
   },
   "source": [
    "By filtering discount values, it seems Nike doesn't offer any, but by examining listing and sale prices, it appears that Nike does offer some. So, for a fair comparison, I calculate and fill in the values for Nike"
   ]
  },
  {
   "cell_type": "code",
   "execution_count": 40,
   "id": "6ad630bc",
   "metadata": {
    "papermill": {
     "duration": 0.029075,
     "end_time": "2023-03-22T01:21:31.658180",
     "exception": false,
     "start_time": "2023-03-22T01:21:31.629105",
     "status": "completed"
    },
    "tags": []
   },
   "outputs": [
    {
     "data": {
      "text/plain": [
       "array([0], dtype=int64)"
      ]
     },
     "execution_count": 40,
     "metadata": {},
     "output_type": "execute_result"
    }
   ],
   "source": [
    "df[df[\"Main Brand\"] == \"Nike\"][\"Discount\"].unique()"
   ]
  },
  {
   "cell_type": "code",
   "execution_count": 41,
   "id": "bf8c7385",
   "metadata": {
    "papermill": {
     "duration": 0.114873,
     "end_time": "2023-03-22T01:21:31.789127",
     "exception": false,
     "start_time": "2023-03-22T01:21:31.674254",
     "status": "completed"
    },
    "tags": []
   },
   "outputs": [
    {
     "data": {
      "text/html": [
       "<div>\n",
       "<style scoped>\n",
       "    .dataframe tbody tr th:only-of-type {\n",
       "        vertical-align: middle;\n",
       "    }\n",
       "\n",
       "    .dataframe tbody tr th {\n",
       "        vertical-align: top;\n",
       "    }\n",
       "\n",
       "    .dataframe thead th {\n",
       "        text-align: right;\n",
       "    }\n",
       "</style>\n",
       "<table border=\"1\" class=\"dataframe\">\n",
       "  <thead>\n",
       "    <tr style=\"text-align: right;\">\n",
       "      <th></th>\n",
       "      <th>Product Name</th>\n",
       "      <th>Product ID</th>\n",
       "      <th>Listing Price</th>\n",
       "      <th>Sale Price</th>\n",
       "      <th>Discount</th>\n",
       "      <th>Brand</th>\n",
       "      <th>Description</th>\n",
       "      <th>Rating</th>\n",
       "      <th>Reviews</th>\n",
       "      <th>Last Visited</th>\n",
       "      <th>Main Brand</th>\n",
       "    </tr>\n",
       "  </thead>\n",
       "  <tbody>\n",
       "    <tr>\n",
       "      <th>3263</th>\n",
       "      <td>Air Jordan 8 Retro</td>\n",
       "      <td>CI1236-100</td>\n",
       "      <td>15995</td>\n",
       "      <td>12797</td>\n",
       "      <td>20</td>\n",
       "      <td>Nike</td>\n",
       "      <td>The Air Jordan 8 Retro recaptures the memorabl...</td>\n",
       "      <td>5.0</td>\n",
       "      <td>1</td>\n",
       "      <td>2020-04-13 15:41:01</td>\n",
       "      <td>Nike</td>\n",
       "    </tr>\n",
       "    <tr>\n",
       "      <th>3264</th>\n",
       "      <td>Nike Phantom Venom Club IC</td>\n",
       "      <td>AO0578-717</td>\n",
       "      <td>4995</td>\n",
       "      <td>3497</td>\n",
       "      <td>30</td>\n",
       "      <td>Nike</td>\n",
       "      <td>The Nike Phantom Venom Club IC is engineered f...</td>\n",
       "      <td>0.0</td>\n",
       "      <td>0</td>\n",
       "      <td>2020-04-13 15:41:03</td>\n",
       "      <td>Nike</td>\n",
       "    </tr>\n",
       "    <tr>\n",
       "      <th>3265</th>\n",
       "      <td>Nike Mercurial Superfly 7 Academy TF</td>\n",
       "      <td>AT7978-414</td>\n",
       "      <td>8495</td>\n",
       "      <td>5947</td>\n",
       "      <td>30</td>\n",
       "      <td>Nike</td>\n",
       "      <td>The soft upper of the Nike Mercurial Superfly ...</td>\n",
       "      <td>5.0</td>\n",
       "      <td>1</td>\n",
       "      <td>2020-04-13 15:41:07</td>\n",
       "      <td>Nike</td>\n",
       "    </tr>\n",
       "    <tr>\n",
       "      <th>3266</th>\n",
       "      <td>Nike Air Max 98</td>\n",
       "      <td>AH6799-300</td>\n",
       "      <td>0</td>\n",
       "      <td>16995</td>\n",
       "      <td>0</td>\n",
       "      <td>Nike</td>\n",
       "      <td>The Nike Air Max 98 features the OG design lin...</td>\n",
       "      <td>4.0</td>\n",
       "      <td>4</td>\n",
       "      <td>2020-04-13 15:41:19</td>\n",
       "      <td>Nike</td>\n",
       "    </tr>\n",
       "    <tr>\n",
       "      <th>3267</th>\n",
       "      <td>Nike P-6000 SE</td>\n",
       "      <td>CJ9585-600</td>\n",
       "      <td>8995</td>\n",
       "      <td>6297</td>\n",
       "      <td>30</td>\n",
       "      <td>Nike</td>\n",
       "      <td>A mash-up of Pegasus' past, the Nike P-6000 SE...</td>\n",
       "      <td>0.0</td>\n",
       "      <td>0</td>\n",
       "      <td>2020-04-13 15:42:57</td>\n",
       "      <td>Nike</td>\n",
       "    </tr>\n",
       "  </tbody>\n",
       "</table>\n",
       "</div>"
      ],
      "text/plain": [
       "                              Product Name  Product ID  Listing Price  \\\n",
       "3263                    Air Jordan 8 Retro  CI1236-100          15995   \n",
       "3264            Nike Phantom Venom Club IC  AO0578-717           4995   \n",
       "3265  Nike Mercurial Superfly 7 Academy TF  AT7978-414           8495   \n",
       "3266                       Nike Air Max 98  AH6799-300              0   \n",
       "3267                        Nike P-6000 SE  CJ9585-600           8995   \n",
       "\n",
       "      Sale Price  Discount Brand  \\\n",
       "3263       12797        20  Nike   \n",
       "3264        3497        30  Nike   \n",
       "3265        5947        30  Nike   \n",
       "3266       16995         0  Nike   \n",
       "3267        6297        30  Nike   \n",
       "\n",
       "                                            Description  Rating  Reviews  \\\n",
       "3263  The Air Jordan 8 Retro recaptures the memorabl...     5.0        1   \n",
       "3264  The Nike Phantom Venom Club IC is engineered f...     0.0        0   \n",
       "3265  The soft upper of the Nike Mercurial Superfly ...     5.0        1   \n",
       "3266  The Nike Air Max 98 features the OG design lin...     4.0        4   \n",
       "3267  A mash-up of Pegasus' past, the Nike P-6000 SE...     0.0        0   \n",
       "\n",
       "            Last Visited Main Brand  \n",
       "3263 2020-04-13 15:41:01       Nike  \n",
       "3264 2020-04-13 15:41:03       Nike  \n",
       "3265 2020-04-13 15:41:07       Nike  \n",
       "3266 2020-04-13 15:41:19       Nike  \n",
       "3267 2020-04-13 15:42:57       Nike  "
      ]
     },
     "execution_count": 41,
     "metadata": {},
     "output_type": "execute_result"
    }
   ],
   "source": [
    "df[\"Discount\"] = df.apply(lambda x: 100 - round((x[\"Sale Price\"]/x[\"Listing Price\"])*100) if (x[\"Main Brand\"] == \"Nike\") & (x[\"Listing Price\"] != 0) else x[\"Discount\"], axis = 1  )\n",
    "\n",
    "df.tail()"
   ]
  },
  {
   "cell_type": "code",
   "execution_count": 42,
   "id": "ab7e5a23",
   "metadata": {
    "papermill": {
     "duration": 0.027989,
     "end_time": "2023-03-22T01:21:31.833434",
     "exception": false,
     "start_time": "2023-03-22T01:21:31.805445",
     "status": "completed"
    },
    "tags": []
   },
   "outputs": [
    {
     "data": {
      "text/plain": [
       "array([ 0, 20, 25, 30, 40, 50, 60], dtype=int64)"
      ]
     },
     "execution_count": 42,
     "metadata": {},
     "output_type": "execute_result"
    }
   ],
   "source": [
    "# Unique discount values\n",
    "\n",
    "np.sort(df[\"Discount\"].unique())"
   ]
  },
  {
   "cell_type": "code",
   "execution_count": 43,
   "id": "d28767d1",
   "metadata": {
    "papermill": {
     "duration": 0.249504,
     "end_time": "2023-03-22T01:21:32.099195",
     "exception": false,
     "start_time": "2023-03-22T01:21:31.849691",
     "status": "completed"
    },
    "tags": []
   },
   "outputs": [
    {
     "data": {
      "text/plain": [
       "<AxesSubplot:xlabel='Main Brand', ylabel='Discount'>"
      ]
     },
     "execution_count": 43,
     "metadata": {},
     "output_type": "execute_result"
    },
    {
     "data": {
      "image/png": "[encoded data removed]",
      "text/plain": [
       "<Figure size 640x480 with 1 Axes>"
      ]
     },
     "metadata": {},
     "output_type": "display_data"
    }
   ],
   "source": [
    "sns.boxplot(data = df[df[\"Discount\"] > 0], x = \"Main Brand\", y = \"Discount\")"
   ]
  },
  {
   "cell_type": "markdown",
   "id": "d073ca3a",
   "metadata": {
    "papermill": {
     "duration": 0.016502,
     "end_time": "2023-03-22T01:21:32.132568",
     "exception": false,
     "start_time": "2023-03-22T01:21:32.116066",
     "status": "completed"
    },
    "tags": []
   },
   "source": [
    "#### Proportion of discounted products per brand"
   ]
  },
  {
   "cell_type": "code",
   "execution_count": 44,
   "id": "934d35b6",
   "metadata": {
    "papermill": {
     "duration": 0.04311,
     "end_time": "2023-03-22T01:21:32.192419",
     "exception": false,
     "start_time": "2023-03-22T01:21:32.149309",
     "status": "completed"
    },
    "tags": []
   },
   "outputs": [
    {
     "data": {
      "text/html": [
       "<div>\n",
       "<style scoped>\n",
       "    .dataframe tbody tr th:only-of-type {\n",
       "        vertical-align: middle;\n",
       "    }\n",
       "\n",
       "    .dataframe tbody tr th {\n",
       "        vertical-align: top;\n",
       "    }\n",
       "\n",
       "    .dataframe thead th {\n",
       "        text-align: right;\n",
       "    }\n",
       "</style>\n",
       "<table border=\"1\" class=\"dataframe\">\n",
       "  <thead>\n",
       "    <tr style=\"text-align: right;\">\n",
       "      <th></th>\n",
       "      <th>Percentage of Discounted Porducts</th>\n",
       "    </tr>\n",
       "  </thead>\n",
       "  <tbody>\n",
       "    <tr>\n",
       "      <th>Adidas</th>\n",
       "      <td>74.90%</td>\n",
       "    </tr>\n",
       "    <tr>\n",
       "      <th>Nike</th>\n",
       "      <td>33.75%</td>\n",
       "    </tr>\n",
       "  </tbody>\n",
       "</table>\n",
       "</div>"
      ],
      "text/plain": [
       "       Percentage of Discounted Porducts\n",
       "Adidas                            74.90%\n",
       "Nike                              33.75%"
      ]
     },
     "execution_count": 44,
     "metadata": {},
     "output_type": "execute_result"
    }
   ],
   "source": [
    "# Counting the discounted products per brand\n",
    "count_discounted = df.query(\"Discount > 0\").groupby(\"Main Brand\").apply(lambda x: x[\"Discount\"].count())\n",
    "\n",
    "# Calculating percentage\n",
    "pct_discounted = count_discounted / count_items\n",
    "\n",
    "# Coverting floating numbers to formatted percentage\n",
    "def covert_to_pct(series):\n",
    "    disc_dict = {}\n",
    "    disc_list = []\n",
    "    brands = series.index\n",
    "    for b in brands:\n",
    "        val = \"{:.2%}\".format(series[b])\n",
    "        disc_dict = {b: val}\n",
    "        disc_list.append(disc_dict)\n",
    "        \n",
    "    return disc_list \n",
    "    \n",
    "res = covert_to_pct(pct_discounted)\n",
    "\n",
    "# I convert the result to Dataframe just for easier readability, since I dont use visualization\n",
    "ptc_discounted_df =  pd.DataFrame(pd.Series(data = [\"\".join(x.values()) for x in res], index = [\"\".join(x.keys()) for x in res])).rename(columns={0:\"Percentage of Discounted Porducts\"})\n",
    "ptc_discounted_df"
   ]
  },
  {
   "cell_type": "markdown",
   "id": "3b594c71",
   "metadata": {
    "papermill": {
     "duration": 0.016817,
     "end_time": "2023-03-22T01:21:32.226129",
     "exception": false,
     "start_time": "2023-03-22T01:21:32.209312",
     "status": "completed"
    },
    "tags": []
   },
   "source": [
    "In conclusion, Adidas offers a better deal overall in terms of discounts. Almost 3/4 of their products are discounted compared to Nike, which only offers 1/3 of their products at a discount.\n",
    "As the box chart shows, most Adidas products are 40%-50% off, while Nike offers a 20%-30% discount on most products. \n",
    "The lowest discount is 20% for both brands and the highest is 60% for Adidas and 40% for Nike."
   ]
  },
  {
   "cell_type": "markdown",
   "id": "20246d7f",
   "metadata": {
    "papermill": {
     "duration": 0.016676,
     "end_time": "2023-03-22T01:21:32.259754",
     "exception": false,
     "start_time": "2023-03-22T01:21:32.243078",
     "status": "completed"
    },
    "tags": []
   },
   "source": [
    "### *Rating*"
   ]
  },
  {
   "cell_type": "code",
   "execution_count": 45,
   "id": "bc2426c8",
   "metadata": {
    "papermill": {
     "duration": 0.027195,
     "end_time": "2023-03-22T01:21:32.303728",
     "exception": false,
     "start_time": "2023-03-22T01:21:32.276533",
     "status": "completed"
    },
    "tags": []
   },
   "outputs": [
    {
     "data": {
      "text/plain": [
       "array([0. , 1. , 1.5, 2. , 2.2, 2.4, 2.5, 2.6, 2.7, 2.8, 2.9, 3. , 3.1,\n",
       "       3.2, 3.3, 3.4, 3.5, 3.6, 3.7, 3.8, 3.9, 4. , 4.1, 4.2, 4.3, 4.4,\n",
       "       4.5, 4.6, 4.7, 4.8, 4.9, 5. ])"
      ]
     },
     "execution_count": 45,
     "metadata": {},
     "output_type": "execute_result"
    }
   ],
   "source": [
    "# Rating scale\n",
    "\n",
    "np.sort(df[\"Rating\"].unique())"
   ]
  },
  {
   "cell_type": "code",
   "execution_count": 46,
   "id": "e099867a",
   "metadata": {
    "papermill": {
     "duration": 0.027828,
     "end_time": "2023-03-22T01:21:32.348704",
     "exception": false,
     "start_time": "2023-03-22T01:21:32.320876",
     "status": "completed"
    },
    "tags": []
   },
   "outputs": [
    {
     "data": {
      "text/plain": [
       "302"
      ]
     },
     "execution_count": 46,
     "metadata": {},
     "output_type": "execute_result"
    }
   ],
   "source": [
    "len(df[df[\"Rating\"] == 0])"
   ]
  },
  {
   "cell_type": "markdown",
   "id": "68850556",
   "metadata": {
    "papermill": {
     "duration": 0.016684,
     "end_time": "2023-03-22T01:21:32.382843",
     "exception": false,
     "start_time": "2023-03-22T01:21:32.366159",
     "status": "completed"
    },
    "tags": []
   },
   "source": [
    "There are 302 products that don't have a rating, so I don't take these into account when calculating the average rating."
   ]
  },
  {
   "cell_type": "code",
   "execution_count": 47,
   "id": "ef96714d",
   "metadata": {
    "papermill": {
     "duration": 0.036417,
     "end_time": "2023-03-22T01:21:32.436263",
     "exception": false,
     "start_time": "2023-03-22T01:21:32.399846",
     "status": "completed"
    },
    "tags": []
   },
   "outputs": [
    {
     "data": {
      "text/html": [
       "<div>\n",
       "<style scoped>\n",
       "    .dataframe tbody tr th:only-of-type {\n",
       "        vertical-align: middle;\n",
       "    }\n",
       "\n",
       "    .dataframe tbody tr th {\n",
       "        vertical-align: top;\n",
       "    }\n",
       "\n",
       "    .dataframe thead th {\n",
       "        text-align: right;\n",
       "    }\n",
       "</style>\n",
       "<table border=\"1\" class=\"dataframe\">\n",
       "  <thead>\n",
       "    <tr style=\"text-align: right;\">\n",
       "      <th></th>\n",
       "      <th>Average Rating</th>\n",
       "    </tr>\n",
       "    <tr>\n",
       "      <th>Main Brand</th>\n",
       "      <th></th>\n",
       "    </tr>\n",
       "  </thead>\n",
       "  <tbody>\n",
       "    <tr>\n",
       "      <th>Adidas</th>\n",
       "      <td>3.463</td>\n",
       "    </tr>\n",
       "    <tr>\n",
       "      <th>Nike</th>\n",
       "      <td>4.248</td>\n",
       "    </tr>\n",
       "  </tbody>\n",
       "</table>\n",
       "</div>"
      ],
      "text/plain": [
       "            Average Rating\n",
       "Main Brand                \n",
       "Adidas               3.463\n",
       "Nike                 4.248"
      ]
     },
     "execution_count": 47,
     "metadata": {},
     "output_type": "execute_result"
    }
   ],
   "source": [
    "not_zero_rating_df = df[df[\"Rating\"] != 0]\n",
    "\n",
    "\n",
    "round(not_zero_rating_df[not_zero_rating_df[\"Rating\"] != 0].groupby(\"Main Brand\")[\"Rating\"].mean().to_frame().rename(columns = {\"Rating\": \"Average Rating\"}), 3)"
   ]
  },
  {
   "cell_type": "markdown",
   "id": "52acd2c1",
   "metadata": {
    "papermill": {
     "duration": 0.017413,
     "end_time": "2023-03-22T01:21:32.471145",
     "exception": false,
     "start_time": "2023-03-22T01:21:32.453732",
     "status": "completed"
    },
    "tags": []
   },
   "source": [
    "#### Percentage of top-rated products compared to all rated products."
   ]
  },
  {
   "cell_type": "code",
   "execution_count": 48,
   "id": "7c6bfd79",
   "metadata": {
    "papermill": {
     "duration": 0.038375,
     "end_time": "2023-03-22T01:21:32.527008",
     "exception": false,
     "start_time": "2023-03-22T01:21:32.488633",
     "status": "completed"
    },
    "tags": []
   },
   "outputs": [
    {
     "data": {
      "text/html": [
       "<div>\n",
       "<style scoped>\n",
       "    .dataframe tbody tr th:only-of-type {\n",
       "        vertical-align: middle;\n",
       "    }\n",
       "\n",
       "    .dataframe tbody tr th {\n",
       "        vertical-align: top;\n",
       "    }\n",
       "\n",
       "    .dataframe thead th {\n",
       "        text-align: right;\n",
       "    }\n",
       "</style>\n",
       "<table border=\"1\" class=\"dataframe\">\n",
       "  <thead>\n",
       "    <tr style=\"text-align: right;\">\n",
       "      <th></th>\n",
       "      <th>Num. of Rated</th>\n",
       "      <th>Ptc. of 5 rating</th>\n",
       "    </tr>\n",
       "    <tr>\n",
       "      <th>Main Brand</th>\n",
       "      <th></th>\n",
       "      <th></th>\n",
       "    </tr>\n",
       "  </thead>\n",
       "  <tbody>\n",
       "    <tr>\n",
       "      <th>Adidas</th>\n",
       "      <td>2552</td>\n",
       "      <td>3.41</td>\n",
       "    </tr>\n",
       "    <tr>\n",
       "      <th>Nike</th>\n",
       "      <td>414</td>\n",
       "      <td>28.99</td>\n",
       "    </tr>\n",
       "  </tbody>\n",
       "</table>\n",
       "</div>"
      ],
      "text/plain": [
       "            Num. of Rated  Ptc. of 5 rating\n",
       "Main Brand                                 \n",
       "Adidas               2552              3.41\n",
       "Nike                  414             28.99"
      ]
     },
     "execution_count": 48,
     "metadata": {},
     "output_type": "execute_result"
    }
   ],
   "source": [
    "count_five_rate = df.groupby(\"Main Brand\")[\"Rating\"].apply(lambda x: (x == 5).sum()) \n",
    "count_rated_items = not_zero_rating_df.groupby(\"Main Brand\").size()\n",
    "pct_five_rated = round((count_five_rate / count_rated_items)*100, 2)\n",
    "\n",
    "df_five_rated = pd.concat([count_rated_items, pct_five_rated,], axis=1)\n",
    "df_five_rated.columns = [\"Num. of Rated\", \"Ptc. of 5 rating\"]\n",
    "df_five_rated\n"
   ]
  },
  {
   "cell_type": "markdown",
   "id": "fb35bffd",
   "metadata": {
    "papermill": {
     "duration": 0.017126,
     "end_time": "2023-03-22T01:21:32.561885",
     "exception": false,
     "start_time": "2023-03-22T01:21:32.544759",
     "status": "completed"
    },
    "tags": []
   },
   "source": [
    "It's interesting to see that even though Nike offers fewer products, fewer and lower discounts but higher average sale price, they still managed to gain more out of the 5 rating, than the competitor."
   ]
  },
  {
   "cell_type": "markdown",
   "id": "736419f2",
   "metadata": {
    "papermill": {
     "duration": 0.018013,
     "end_time": "2023-03-22T01:21:32.597351",
     "exception": false,
     "start_time": "2023-03-22T01:21:32.579338",
     "status": "completed"
    },
    "tags": []
   },
   "source": [
    "### *Review*"
   ]
  },
  {
   "cell_type": "markdown",
   "id": "b306d9e2",
   "metadata": {
    "papermill": {
     "duration": 0.016908,
     "end_time": "2023-03-22T01:21:32.631524",
     "exception": false,
     "start_time": "2023-03-22T01:21:32.614616",
     "status": "completed"
    },
    "tags": []
   },
   "source": [
    "#### Top 3 most reviewed products"
   ]
  },
  {
   "cell_type": "code",
   "execution_count": 49,
   "id": "9c1ab2b4",
   "metadata": {
    "papermill": {
     "duration": 0.03839,
     "end_time": "2023-03-22T01:21:32.687531",
     "exception": false,
     "start_time": "2023-03-22T01:21:32.649141",
     "status": "completed"
    },
    "tags": []
   },
   "outputs": [
    {
     "data": {
      "text/html": [
       "<div>\n",
       "<style scoped>\n",
       "    .dataframe tbody tr th:only-of-type {\n",
       "        vertical-align: middle;\n",
       "    }\n",
       "\n",
       "    .dataframe tbody tr th {\n",
       "        vertical-align: top;\n",
       "    }\n",
       "\n",
       "    .dataframe thead th {\n",
       "        text-align: right;\n",
       "    }\n",
       "</style>\n",
       "<table border=\"1\" class=\"dataframe\">\n",
       "  <thead>\n",
       "    <tr style=\"text-align: right;\">\n",
       "      <th></th>\n",
       "      <th>Product Name</th>\n",
       "      <th>Product ID</th>\n",
       "      <th>Listing Price</th>\n",
       "      <th>Sale Price</th>\n",
       "      <th>Discount</th>\n",
       "      <th>Brand</th>\n",
       "      <th>Description</th>\n",
       "      <th>Rating</th>\n",
       "      <th>Reviews</th>\n",
       "      <th>Last Visited</th>\n",
       "      <th>Main Brand</th>\n",
       "    </tr>\n",
       "  </thead>\n",
       "  <tbody>\n",
       "    <tr>\n",
       "      <th>2750</th>\n",
       "      <td>Air Jordan 10 Retro</td>\n",
       "      <td>310805-137</td>\n",
       "      <td>0</td>\n",
       "      <td>15995</td>\n",
       "      <td>0</td>\n",
       "      <td>Nike</td>\n",
       "      <td>Featuring soft, lightweight cushioning, the Ai...</td>\n",
       "      <td>4.7</td>\n",
       "      <td>223</td>\n",
       "      <td>2020-04-13 15:28:25</td>\n",
       "      <td>Nike</td>\n",
       "    </tr>\n",
       "    <tr>\n",
       "      <th>2805</th>\n",
       "      <td>Nike Zoom Fly</td>\n",
       "      <td>880848-005</td>\n",
       "      <td>0</td>\n",
       "      <td>14495</td>\n",
       "      <td>0</td>\n",
       "      <td>Nike</td>\n",
       "      <td>Built with a carbon-infused nylon plate inspir...</td>\n",
       "      <td>4.3</td>\n",
       "      <td>105</td>\n",
       "      <td>2020-04-13 15:30:22</td>\n",
       "      <td>Nike</td>\n",
       "    </tr>\n",
       "    <tr>\n",
       "      <th>560</th>\n",
       "      <td>Men's adidas Outdoor Geocach 19 Shoes</td>\n",
       "      <td>CM0012</td>\n",
       "      <td>4999</td>\n",
       "      <td>2499</td>\n",
       "      <td>50</td>\n",
       "      <td>Adidas SPORT PERFORMANCE</td>\n",
       "      <td>These hiking shoes have a sturdy synthetic upp...</td>\n",
       "      <td>2.4</td>\n",
       "      <td>99</td>\n",
       "      <td>2020-04-13 15:06:38</td>\n",
       "      <td>Adidas</td>\n",
       "    </tr>\n",
       "  </tbody>\n",
       "</table>\n",
       "</div>"
      ],
      "text/plain": [
       "                               Product Name  Product ID  Listing Price  \\\n",
       "2750                    Air Jordan 10 Retro  310805-137              0   \n",
       "2805                          Nike Zoom Fly  880848-005              0   \n",
       "560   Men's adidas Outdoor Geocach 19 Shoes      CM0012           4999   \n",
       "\n",
       "      Sale Price  Discount                     Brand  \\\n",
       "2750       15995         0                      Nike   \n",
       "2805       14495         0                      Nike   \n",
       "560         2499        50  Adidas SPORT PERFORMANCE   \n",
       "\n",
       "                                            Description  Rating  Reviews  \\\n",
       "2750  Featuring soft, lightweight cushioning, the Ai...     4.7      223   \n",
       "2805  Built with a carbon-infused nylon plate inspir...     4.3      105   \n",
       "560   These hiking shoes have a sturdy synthetic upp...     2.4       99   \n",
       "\n",
       "            Last Visited Main Brand  \n",
       "2750 2020-04-13 15:28:25       Nike  \n",
       "2805 2020-04-13 15:30:22       Nike  \n",
       "560  2020-04-13 15:06:38     Adidas  "
      ]
     },
     "execution_count": 49,
     "metadata": {},
     "output_type": "execute_result"
    }
   ],
   "source": [
    "df.sort_values([\"Reviews\"], ascending = [False]).head(3)"
   ]
  },
  {
   "cell_type": "markdown",
   "id": "0335e798",
   "metadata": {
    "papermill": {
     "duration": 0.017033,
     "end_time": "2023-03-22T01:21:32.722586",
     "exception": false,
     "start_time": "2023-03-22T01:21:32.705553",
     "status": "completed"
    },
    "tags": []
   },
   "source": [
    "#### Percentage of reviewed products per brand"
   ]
  },
  {
   "cell_type": "code",
   "execution_count": 50,
   "id": "5dc3a629",
   "metadata": {
    "papermill": {
     "duration": 0.036276,
     "end_time": "2023-03-22T01:21:32.776786",
     "exception": false,
     "start_time": "2023-03-22T01:21:32.740510",
     "status": "completed"
    },
    "tags": []
   },
   "outputs": [
    {
     "data": {
      "text/html": [
       "<div>\n",
       "<style scoped>\n",
       "    .dataframe tbody tr th:only-of-type {\n",
       "        vertical-align: middle;\n",
       "    }\n",
       "\n",
       "    .dataframe tbody tr th {\n",
       "        vertical-align: top;\n",
       "    }\n",
       "\n",
       "    .dataframe thead th {\n",
       "        text-align: right;\n",
       "    }\n",
       "</style>\n",
       "<table border=\"1\" class=\"dataframe\">\n",
       "  <thead>\n",
       "    <tr style=\"text-align: right;\">\n",
       "      <th></th>\n",
       "      <th>Percentage of reviews</th>\n",
       "    </tr>\n",
       "    <tr>\n",
       "      <th>Main Brand</th>\n",
       "      <th></th>\n",
       "    </tr>\n",
       "  </thead>\n",
       "  <tbody>\n",
       "    <tr>\n",
       "      <th>Adidas</th>\n",
       "      <td>98.93%</td>\n",
       "    </tr>\n",
       "    <tr>\n",
       "      <th>Nike</th>\n",
       "      <td>64.39%</td>\n",
       "    </tr>\n",
       "  </tbody>\n",
       "</table>\n",
       "</div>"
      ],
      "text/plain": [
       "           Percentage of reviews\n",
       "Main Brand                      \n",
       "Adidas                    98.93%\n",
       "Nike                      64.39%"
      ]
     },
     "execution_count": 50,
     "metadata": {},
     "output_type": "execute_result"
    }
   ],
   "source": [
    "count_of_reviews =  df[df[\"Reviews\"] != 0].groupby(\"Main Brand\").size()  \n",
    "pct_of_reviews = count_of_reviews / count_items\n",
    "\n",
    "pct_of_reviews_df = pd.DataFrame([\"{:.2%}\".format(x) for x in pct_of_reviews], index = [pct_of_reviews.index]).rename(columns = {0 :\"Percentage of reviews\"})\n",
    "pct_of_reviews_df"
   ]
  },
  {
   "cell_type": "markdown",
   "id": "8d25b9d3",
   "metadata": {
    "papermill": {
     "duration": 0.017417,
     "end_time": "2023-03-22T01:21:32.811827",
     "exception": false,
     "start_time": "2023-03-22T01:21:32.794410",
     "status": "completed"
    },
    "tags": []
   },
   "source": [
    "Adidas customers were more active in giving their opinions. This may be one out the many reasons why Adidas has far fewer 5 rated products than Nike, as the more reviews, the higher the chance of negative feedback."
   ]
  },
  {
   "cell_type": "markdown",
   "id": "1b622c42",
   "metadata": {
    "papermill": {
     "duration": 0.017138,
     "end_time": "2023-03-22T01:21:32.846392",
     "exception": false,
     "start_time": "2023-03-22T01:21:32.829254",
     "status": "completed"
    },
    "tags": []
   },
   "source": [
    "### *Reviews & Ratings*"
   ]
  },
  {
   "cell_type": "markdown",
   "id": "8f273afa",
   "metadata": {
    "papermill": {
     "duration": 0.016967,
     "end_time": "2023-03-22T01:21:32.880869",
     "exception": false,
     "start_time": "2023-03-22T01:21:32.863902",
     "status": "completed"
    },
    "tags": []
   },
   "source": [
    "#### Products with the highest rating and most reviews per brand"
   ]
  },
  {
   "cell_type": "code",
   "execution_count": 51,
   "id": "b601999b",
   "metadata": {
    "papermill": {
     "duration": 0.046972,
     "end_time": "2023-03-22T01:21:32.945093",
     "exception": false,
     "start_time": "2023-03-22T01:21:32.898121",
     "status": "completed"
    },
    "tags": []
   },
   "outputs": [
    {
     "data": {
      "text/html": [
       "<div>\n",
       "<style scoped>\n",
       "    .dataframe tbody tr th:only-of-type {\n",
       "        vertical-align: middle;\n",
       "    }\n",
       "\n",
       "    .dataframe tbody tr th {\n",
       "        vertical-align: top;\n",
       "    }\n",
       "\n",
       "    .dataframe thead th {\n",
       "        text-align: right;\n",
       "    }\n",
       "</style>\n",
       "<table border=\"1\" class=\"dataframe\">\n",
       "  <thead>\n",
       "    <tr style=\"text-align: right;\">\n",
       "      <th></th>\n",
       "      <th></th>\n",
       "      <th>Product Name</th>\n",
       "      <th>Product ID</th>\n",
       "      <th>Listing Price</th>\n",
       "      <th>Sale Price</th>\n",
       "      <th>Discount</th>\n",
       "      <th>Brand</th>\n",
       "      <th>Description</th>\n",
       "      <th>Rating</th>\n",
       "      <th>Reviews</th>\n",
       "      <th>Last Visited</th>\n",
       "      <th>Main Brand</th>\n",
       "    </tr>\n",
       "    <tr>\n",
       "      <th>Main Brand</th>\n",
       "      <th></th>\n",
       "      <th></th>\n",
       "      <th></th>\n",
       "      <th></th>\n",
       "      <th></th>\n",
       "      <th></th>\n",
       "      <th></th>\n",
       "      <th></th>\n",
       "      <th></th>\n",
       "      <th></th>\n",
       "      <th></th>\n",
       "      <th></th>\n",
       "    </tr>\n",
       "  </thead>\n",
       "  <tbody>\n",
       "    <tr>\n",
       "      <th rowspan=\"2\" valign=\"top\">Adidas</th>\n",
       "      <th>267</th>\n",
       "      <td>Men's adidas Toe Side II Slippers</td>\n",
       "      <td>CM0070</td>\n",
       "      <td>1299</td>\n",
       "      <td>779</td>\n",
       "      <td>40</td>\n",
       "      <td>Adidas CORE / NEO</td>\n",
       "      <td>The adidas casual slippers for men with a stri...</td>\n",
       "      <td>5.0</td>\n",
       "      <td>99</td>\n",
       "      <td>2020-04-13 15:06:28</td>\n",
       "      <td>Adidas</td>\n",
       "    </tr>\n",
       "    <tr>\n",
       "      <th>1800</th>\n",
       "      <td>Men's adidas Running Asweego Shoes</td>\n",
       "      <td>F35560</td>\n",
       "      <td>7999</td>\n",
       "      <td>3999</td>\n",
       "      <td>50</td>\n",
       "      <td>Adidas CORE / NEO</td>\n",
       "      <td>Shoes with flexibility and responsiveness for ...</td>\n",
       "      <td>5.0</td>\n",
       "      <td>99</td>\n",
       "      <td>2020-04-13 15:07:28</td>\n",
       "      <td>Adidas</td>\n",
       "    </tr>\n",
       "    <tr>\n",
       "      <th rowspan=\"2\" valign=\"top\">Nike</th>\n",
       "      <th>2635</th>\n",
       "      <td>Nike Air Max 90</td>\n",
       "      <td>CD0490-104</td>\n",
       "      <td>0</td>\n",
       "      <td>9995</td>\n",
       "      <td>0</td>\n",
       "      <td>Nike</td>\n",
       "      <td>Clean lines, versatile and timeless—the people...</td>\n",
       "      <td>5.0</td>\n",
       "      <td>9</td>\n",
       "      <td>2020-04-13 15:28:00</td>\n",
       "      <td>Nike</td>\n",
       "    </tr>\n",
       "    <tr>\n",
       "      <th>2695</th>\n",
       "      <td>Nike Air Max 90</td>\n",
       "      <td>CD0490-101</td>\n",
       "      <td>0</td>\n",
       "      <td>9995</td>\n",
       "      <td>0</td>\n",
       "      <td>Nike</td>\n",
       "      <td>Clean lines, versatile and timeless—the people...</td>\n",
       "      <td>5.0</td>\n",
       "      <td>9</td>\n",
       "      <td>2020-04-13 15:28:15</td>\n",
       "      <td>Nike</td>\n",
       "    </tr>\n",
       "  </tbody>\n",
       "</table>\n",
       "</div>"
      ],
      "text/plain": [
       "                                       Product Name  Product ID  \\\n",
       "Main Brand                                                        \n",
       "Adidas     267    Men's adidas Toe Side II Slippers      CM0070   \n",
       "           1800  Men's adidas Running Asweego Shoes      F35560   \n",
       "Nike       2635                     Nike Air Max 90  CD0490-104   \n",
       "           2695                     Nike Air Max 90  CD0490-101   \n",
       "\n",
       "                 Listing Price  Sale Price  Discount              Brand  \\\n",
       "Main Brand                                                                \n",
       "Adidas     267            1299         779        40  Adidas CORE / NEO   \n",
       "           1800           7999        3999        50  Adidas CORE / NEO   \n",
       "Nike       2635              0        9995         0               Nike   \n",
       "           2695              0        9995         0               Nike   \n",
       "\n",
       "                                                       Description  Rating  \\\n",
       "Main Brand                                                                   \n",
       "Adidas     267   The adidas casual slippers for men with a stri...     5.0   \n",
       "           1800  Shoes with flexibility and responsiveness for ...     5.0   \n",
       "Nike       2635  Clean lines, versatile and timeless—the people...     5.0   \n",
       "           2695  Clean lines, versatile and timeless—the people...     5.0   \n",
       "\n",
       "                 Reviews        Last Visited Main Brand  \n",
       "Main Brand                                               \n",
       "Adidas     267        99 2020-04-13 15:06:28     Adidas  \n",
       "           1800       99 2020-04-13 15:07:28     Adidas  \n",
       "Nike       2635        9 2020-04-13 15:28:00       Nike  \n",
       "           2695        9 2020-04-13 15:28:15       Nike  "
      ]
     },
     "execution_count": 51,
     "metadata": {},
     "output_type": "execute_result"
    }
   ],
   "source": [
    "def best_rate_review_by_brands(s):\n",
    "    # filter each group with highest rate value\n",
    "    max_rate_df = s[s[\"Rating\"] == s[\"Rating\"].max()]\n",
    "    # filter rows further with the highest value in Reviews column \n",
    "    max_rate_review_df = max_rate_df[max_rate_df[\"Reviews\"] == max_rate_df[\"Reviews\"].max()]\n",
    "    return max_rate_review_df\n",
    "    \n",
    "\n",
    "best_rate_review_items = df.groupby(\"Main Brand\").apply(best_rate_review_by_brands)\n",
    "best_rate_review_items\n"
   ]
  },
  {
   "cell_type": "markdown",
   "id": "fe23f829",
   "metadata": {
    "papermill": {
     "duration": 0.017998,
     "end_time": "2023-03-22T01:21:32.981560",
     "exception": false,
     "start_time": "2023-03-22T01:21:32.963562",
     "status": "completed"
    },
    "tags": []
   },
   "source": [
    "### *Reviews & Discounts*"
   ]
  },
  {
   "cell_type": "code",
   "execution_count": 52,
   "id": "9cdb7245",
   "metadata": {
    "papermill": {
     "duration": 0.04172,
     "end_time": "2023-03-22T01:21:33.041993",
     "exception": false,
     "start_time": "2023-03-22T01:21:33.000273",
     "status": "completed"
    },
    "tags": []
   },
   "outputs": [],
   "source": [
    "\n",
    "def brands_reviews_discounts(x):\n",
    "    brands_list = []\n",
    "    brands_dict = {}\n",
    "    main_brands = x[\"Main Brand\"].unique()\n",
    "    \n",
    "    for brand in main_brands:\n",
    "        brands_df = x[x[\"Main Brand\"] == brand]\n",
    "        count_reviewed_and_discounted = len(brands_df[(brands_df[\"Reviews\"] > 0) & (brands_df[\"Discount\"] > 0) ])\n",
    "        count_reviewed_not_discounted = len(brands_df[(brands_df[\"Reviews\"] > 0) & (brands_df[\"Discount\"] ==  0)])\n",
    "        count_not_reviewed_discounted = len(brands_df[(brands_df[\"Reviews\"] == 0) & (brands_df[\"Discount\"] >  0)])\n",
    "        count_not_reviewed_not_discounted = len(brands_df[(brands_df[\"Reviews\"] == 0) & (brands_df[\"Discount\"] ==  0)])\n",
    "        #num_discounted = len(brands_df[brands_df[\"Discount\"] > 0])\n",
    "        total = len(brands_df)\n",
    "\n",
    "        \n",
    "        brands_dict = { \"Reviewed and Discounted\" : count_reviewed_and_discounted,\n",
    "                        \"Reviewed but Not Discounted\" : count_reviewed_not_discounted,\n",
    "                        \"Not Reviewed but Discounted\" : count_not_reviewed_discounted,\n",
    "                        \"Not Reviewed and Not Discounted\" : count_not_reviewed_not_discounted,\n",
    "                        # \"Number of Discounted Products\" : num_discounted,\n",
    "                        \"Total Products\" : total\n",
    "                        }\n",
    "        brands_list.append(brands_dict)\n",
    "        \n",
    "    return brands_list\n",
    "    \n",
    "result_brands = brands_reviews_discounts(df)\n",
    "\n"
   ]
  },
  {
   "cell_type": "code",
   "execution_count": 53,
   "id": "e85eb133",
   "metadata": {
    "papermill": {
     "duration": 0.033683,
     "end_time": "2023-03-22T01:21:33.094207",
     "exception": false,
     "start_time": "2023-03-22T01:21:33.060524",
     "status": "completed"
    },
    "tags": []
   },
   "outputs": [
    {
     "data": {
      "text/html": [
       "<div>\n",
       "<style scoped>\n",
       "    .dataframe tbody tr th:only-of-type {\n",
       "        vertical-align: middle;\n",
       "    }\n",
       "\n",
       "    .dataframe tbody tr th {\n",
       "        vertical-align: top;\n",
       "    }\n",
       "\n",
       "    .dataframe thead th {\n",
       "        text-align: right;\n",
       "    }\n",
       "</style>\n",
       "<table border=\"1\" class=\"dataframe\">\n",
       "  <thead>\n",
       "    <tr style=\"text-align: right;\">\n",
       "      <th></th>\n",
       "      <th>Reviewed and Discounted</th>\n",
       "      <th>Reviewed but Not Discounted</th>\n",
       "      <th>Not Reviewed but Discounted</th>\n",
       "      <th>Not Reviewed and Not Discounted</th>\n",
       "      <th>Total Products</th>\n",
       "    </tr>\n",
       "  </thead>\n",
       "  <tbody>\n",
       "    <tr>\n",
       "      <th>Adidas</th>\n",
       "      <td>1946</td>\n",
       "      <td>651</td>\n",
       "      <td>20</td>\n",
       "      <td>8</td>\n",
       "      <td>2625</td>\n",
       "    </tr>\n",
       "    <tr>\n",
       "      <th>Nike</th>\n",
       "      <td>155</td>\n",
       "      <td>259</td>\n",
       "      <td>62</td>\n",
       "      <td>167</td>\n",
       "      <td>643</td>\n",
       "    </tr>\n",
       "  </tbody>\n",
       "</table>\n",
       "</div>"
      ],
      "text/plain": [
       "        Reviewed and Discounted  Reviewed but Not Discounted  \\\n",
       "Adidas                     1946                          651   \n",
       "Nike                        155                          259   \n",
       "\n",
       "        Not Reviewed but Discounted  Not Reviewed and Not Discounted  \\\n",
       "Adidas                           20                                8   \n",
       "Nike                             62                              167   \n",
       "\n",
       "        Total Products  \n",
       "Adidas            2625  \n",
       "Nike               643  "
      ]
     },
     "execution_count": 53,
     "metadata": {},
     "output_type": "execute_result"
    }
   ],
   "source": [
    "df_discounts_reviews = pd.DataFrame(result_brands, index = [\"Adidas\", \"Nike\"])\n",
    "df_discounts_reviews"
   ]
  },
  {
   "cell_type": "markdown",
   "id": "988b2891",
   "metadata": {
    "papermill": {
     "duration": 0.018046,
     "end_time": "2023-03-22T01:21:33.130744",
     "exception": false,
     "start_time": "2023-03-22T01:21:33.112698",
     "status": "completed"
    },
    "tags": []
   },
   "source": [
    "We may conclude that the higher interest in Adidas products was boosted by offering relatively high discounts on 75% of their products."
   ]
  }
 ],
 "metadata": {
  "kernelspec": {
   "display_name": "Python 3 (ipykernel)",
   "language": "python",
   "name": "python3"
  },
  "language_info": {
   "codemirror_mode": {
    "name": "ipython",
    "version": 3
   },
   "file_extension": ".py",
   "mimetype": "text/x-python",
   "name": "python",
   "nbconvert_exporter": "python",
   "pygments_lexer": "ipython3",
   "version": "3.9.13"
  },
  "papermill": {
   "default_parameters": {},
   "duration": 15.970008,
   "end_time": "2023-03-22T01:21:33.870782",
   "environment_variables": {},
   "exception": null,
   "input_path": "__notebook__.ipynb",
   "output_path": "__notebook__.ipynb",
   "parameters": {},
   "start_time": "2023-03-22T01:21:17.900774",
   "version": "2.4.0"
  }
 },
 "nbformat": 4,
 "nbformat_minor": 5
}
